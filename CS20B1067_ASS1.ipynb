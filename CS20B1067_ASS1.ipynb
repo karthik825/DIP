{
 "cells": [
  {
   "attachments": {},
   "cell_type": "markdown",
   "metadata": {},
   "source": [
    "# CS20B1067 KODAM KARTHIK\n",
    "# DIGITAL IMAGE PROCESSING\n",
    "#  ASSIGNMENT 1\n"
   ]
  },
  {
   "cell_type": "code",
   "execution_count": 1,
   "metadata": {},
   "outputs": [
    {
     "name": "stdout",
     "output_type": "stream",
     "text": [
      "Automatic pdb calling has been turned ON\n"
     ]
    }
   ],
   "source": [
    "# convert the lena image to grey scale image\n",
    "%pdb\n",
    "import numpy as np\n",
    "import matplotlib.pyplot as plt\n",
    "from PIL import Image\n",
    "import cv2 as cv\n",
    "\n",
    "\n",
    "\n"
   ]
  },
  {
   "cell_type": "code",
   "execution_count": 2,
   "metadata": {},
   "outputs": [
    {
     "data": {
      "image/png": "[encoded data removed]",
      "text/plain": [
       "<Figure size 432x288 with 1 Axes>"
      ]
     },
     "metadata": {
      "needs_background": "light"
     },
     "output_type": "display_data"
    }
   ],
   "source": [
    "#read the image\n",
    "img = Image.open('Lena.png')\n",
    "img = img.convert('L')\n",
    "img = np.array(img)\n",
    "\n",
    "#display the image\n",
    "plt.imshow(img, cmap='gray')\n",
    "plt.show()\n",
    "\n",
    "#save the image\n",
    "plt.imsave('LenaG.png', img, cmap='gray')\n",
    "\n"
   ]
  },
  {
   "attachments": {},
   "cell_type": "markdown",
   "metadata": {},
   "source": [
    "# Interpolation without using inbuilt functions"
   ]
  },
  {
   "cell_type": "code",
   "execution_count": 3,
   "metadata": {},
   "outputs": [],
   "source": [
    "\n",
    "def bilinear_interpolation(img, scale):\n",
    "    # get the size of the image\n",
    "    height, width = img.shape\n",
    "    # calculate the new size of the image\n",
    "    new_height = int(height * scale)\n",
    "    new_width = int(width * scale)\n",
    "    # create a new image with the new size\n",
    "    new_img = np.zeros((new_height, new_width))\n",
    "    # calculate the scale factor\n",
    "    scale_height = height / new_height\n",
    "    scale_width = width / new_width\n",
    "    # loop through the new image\n",
    "    for i in range(new_height):\n",
    "        for j in range(new_width):\n",
    "            # calculate the position of the pixel in the original image\n",
    "            x = (i ) * scale_height\n",
    "            y = (j) * scale_width     \n",
    "            # calculate the position of the pixel in the original image\n",
    "            x1 = int(np.floor(x))\n",
    "            x2 = min(x1 + 1, height - 1)\n",
    "            y1 = int(np.floor(y))\n",
    "            y2 = min(y1 + 1, width - 1)\n",
    "            # calculate the weight\n",
    "            weight_x = x - x1\n",
    "            weight_y = y - y1\n",
    "            # calculate the new pixel value\n",
    "            new_img[i, j] = (1 - weight_x) * (1 - weight_y) * img[x1, y1] + weight_x * (1 - weight_y) * img[x2, y1] + (1 - weight_x) * weight_y * img[x1, y2] + weight_x * weight_y * img[x2, y2]\n",
    "    return new_img\n"
   ]
  },
  {
   "cell_type": "code",
   "execution_count": 4,
   "metadata": {},
   "outputs": [
    {
     "data": {
      "image/png": "[encoded data removed]",
      "text/plain": [
       "<Figure size 432x288 with 1 Axes>"
      ]
     },
     "metadata": {
      "needs_background": "light"
     },
     "output_type": "display_data"
    },
    {
     "data": {
      "image/png": "[encoded data removed]",
      "text/plain": [
       "<Figure size 432x288 with 1 Axes>"
      ]
     },
     "metadata": {
      "needs_background": "light"
     },
     "output_type": "display_data"
    },
    {
     "data": {
      "image/png": "[encoded data removed]",
      "text/plain": [
       "<Figure size 432x288 with 1 Axes>"
      ]
     },
     "metadata": {
      "needs_background": "light"
     },
     "output_type": "display_data"
    }
   ],
   "source": [
    "# scale the new_img with factors 1,2,0.5\n",
    "\n",
    "new_img1 = bilinear_interpolation(img, 1)\n",
    "new_img2 = bilinear_interpolation(img, 2)\n",
    "new_img3 = bilinear_interpolation(img, 0.5)\n",
    "\n",
    "#display the images\n",
    "plt.imshow(new_img1, cmap='gray')\n",
    "plt.show()\n",
    "plt.imshow(new_img2, cmap='gray')\n",
    "plt.show()\n",
    "plt.imshow(new_img3, cmap='gray')\n",
    "plt.show()"
   ]
  },
  {
   "attachments": {},
   "cell_type": "markdown",
   "metadata": {},
   "source": [
    "# Interpolation using inbuilt functions (opencv)"
   ]
  },
  {
   "cell_type": "code",
   "execution_count": 5,
   "metadata": {},
   "outputs": [
    {
     "data": {
      "image/png": "[encoded data removed]",
      "text/plain": [
       "<Figure size 432x288 with 1 Axes>"
      ]
     },
     "metadata": {
      "needs_background": "light"
     },
     "output_type": "display_data"
    },
    {
     "data": {
      "image/png": "[encoded data removed]",
      "text/plain": [
       "<Figure size 432x288 with 1 Axes>"
      ]
     },
     "metadata": {
      "needs_background": "light"
     },
     "output_type": "display_data"
    },
    {
     "data": {
      "image/png": "[encoded data removed]",
      "text/plain": [
       "<Figure size 432x288 with 1 Axes>"
      ]
     },
     "metadata": {
      "needs_background": "light"
     },
     "output_type": "display_data"
    }
   ],
   "source": [
    "img_1=cv.resize(img,None,fx=1,fy=1,interpolation=cv.INTER_LINEAR)\n",
    "plt.imshow(img_1, cmap='gray')\n",
    "plt.title(\"scale by 1\")\n",
    "plt.show()\n",
    "img_2=cv.resize(img,None,fx=2,fy=2,interpolation=cv.INTER_LINEAR)\n",
    "plt.imshow(img_2, cmap='gray')\n",
    "plt.title(\"scale by 2\")\n",
    "plt.show()\n",
    "img_3=cv.resize(img,None,fx=0.5,fy=0.5,interpolation=cv.INTER_LINEAR)\n",
    "plt.imshow(img_3, cmap='gray')\n",
    "plt.title(\"scale by 0.5\")\n",
    "plt.show()"
   ]
  },
  {
   "cell_type": "code",
   "execution_count": 6,
   "metadata": {},
   "outputs": [
    {
     "name": "stdout",
     "output_type": "stream",
     "text": [
      "80\n"
     ]
    }
   ],
   "source": [
    "#print number of same values in image new_img2 and img2 that has common part \n",
    "\n",
    "\n",
    "print(np.sum(new_img2[0:256,0:256] == img_2[0:256,0:256]))\n",
    "\n",
    "\n",
    "# #print total number of pixels in new_img2 and img_2\n",
    "\n",
    "# print(np.sum(new_img2 == img_2))\n",
    "\n",
    "# #count the number of same pixel values in new_img2 and img_2 having common part\n",
    "\n",
    "\n",
    "\n",
    "\n",
    "\n",
    "\n",
    "\n",
    "\n",
    "\n",
    "\n",
    "\n",
    "\n",
    "\n"
   ]
  }
 ],
 "metadata": {
  "kernelspec": {
   "display_name": "Python 3",
   "language": "python",
   "name": "python3"
  },
  "language_info": {
   "codemirror_mode": {
    "name": "ipython",
    "version": 3
   },
   "file_extension": ".py",
   "mimetype": "text/x-python",
   "name": "python",
   "nbconvert_exporter": "python",
   "pygments_lexer": "ipython3",
   "version": "3.10.6"
  },
  "orig_nbformat": 4,
  "vscode": {
   "interpreter": {
    "hash": "916dbcbb3f70747c44a77c7bcd40155683ae19c65e1c03b4aa3499c5328201f1"
   }
  }
 },
 "nbformat": 4,
 "nbformat_minor": 2
}
